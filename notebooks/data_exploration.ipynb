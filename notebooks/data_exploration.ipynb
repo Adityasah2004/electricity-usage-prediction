{
 "cells": [
  {
   "cell_type": "markdown",
   "metadata": {},
   "source": [
    "# Electricity Usage Data Exploration\n",
    "\n",
    "This notebook explores the electricity consumption dataset and performs initial analysis."
   ]
  },
  {
   "cell_type": "code",
   "execution_count": 1,
   "metadata": {},
   "outputs": [
    {
     "name": "stdout",
     "output_type": "stream",
     "text": [
      "Defaulting to user installation because normal site-packages is not writeable\n",
      "\u001b[33mDEPRECATION: Loading egg at /usr/local/lib/python3.13/site-packages/envycontrol-3.5.1-py3.13.egg is deprecated. pip 25.1 will enforce this behaviour change. A possible replacement is to use pip for package installation. Discussion can be found at https://github.com/pypa/pip/issues/12330\u001b[0m\u001b[33m\n",
      "\u001b[0mRequirement already satisfied: pandas in /home/adityasah/.local/lib/python3.13/site-packages (2.2.3)\n",
      "Requirement already satisfied: numpy in /home/adityasah/.local/lib/python3.13/site-packages (2.2.3)\n",
      "Requirement already satisfied: matplotlib in /home/adityasah/.local/lib/python3.13/site-packages (3.10.1)\n",
      "Requirement already satisfied: seaborn in /home/adityasah/.local/lib/python3.13/site-packages (0.13.2)\n",
      "Requirement already satisfied: statsmodels in /home/adityasah/.local/lib/python3.13/site-packages (0.14.4)\n",
      "Requirement already satisfied: python-dateutil>=2.8.2 in /usr/lib/python3.13/site-packages (from pandas) (2.8.2)\n",
      "Requirement already satisfied: pytz>=2020.1 in /home/adityasah/.local/lib/python3.13/site-packages (from pandas) (2025.1)\n",
      "Requirement already satisfied: tzdata>=2022.7 in /home/adityasah/.local/lib/python3.13/site-packages (from pandas) (2025.1)\n",
      "Requirement already satisfied: contourpy>=1.0.1 in /home/adityasah/.local/lib/python3.13/site-packages (from matplotlib) (1.3.1)\n",
      "Requirement already satisfied: cycler>=0.10 in /home/adityasah/.local/lib/python3.13/site-packages (from matplotlib) (0.12.1)\n",
      "Requirement already satisfied: fonttools>=4.22.0 in /home/adityasah/.local/lib/python3.13/site-packages (from matplotlib) (4.56.0)\n",
      "Requirement already satisfied: kiwisolver>=1.3.1 in /home/adityasah/.local/lib/python3.13/site-packages (from matplotlib) (1.4.8)\n",
      "Requirement already satisfied: packaging>=20.0 in /usr/lib/python3.13/site-packages (from matplotlib) (24.2)\n",
      "Requirement already satisfied: pillow>=8 in /usr/lib64/python3.13/site-packages (from matplotlib) (11.0.0)\n",
      "Requirement already satisfied: pyparsing>=2.3.1 in /home/adityasah/.local/lib/python3.13/site-packages (from matplotlib) (3.2.1)\n",
      "Requirement already satisfied: scipy!=1.9.2,>=1.8 in /home/adityasah/.local/lib/python3.13/site-packages (from statsmodels) (1.15.2)\n",
      "Requirement already satisfied: patsy>=0.5.6 in /home/adityasah/.local/lib/python3.13/site-packages (from statsmodels) (1.0.1)\n",
      "Requirement already satisfied: six>=1.5 in /usr/lib/python3.13/site-packages (from python-dateutil>=2.8.2->pandas) (1.16.0)\n",
      "Defaulting to user installation because normal site-packages is not writeable\n",
      "\u001b[33mDEPRECATION: Loading egg at /usr/local/lib/python3.13/site-packages/envycontrol-3.5.1-py3.13.egg is deprecated. pip 25.1 will enforce this behaviour change. A possible replacement is to use pip for package installation. Discussion can be found at https://github.com/pypa/pip/issues/12330\u001b[0m\u001b[33m\n",
      "\u001b[0mRequirement already satisfied: ipython in /home/adityasah/.local/lib/python3.13/site-packages (9.0.2)\n",
      "Requirement already satisfied: decorator in /home/adityasah/.local/lib/python3.13/site-packages (from ipython) (5.2.1)\n",
      "Requirement already satisfied: ipython-pygments-lexers in /home/adityasah/.local/lib/python3.13/site-packages (from ipython) (1.1.1)\n",
      "Requirement already satisfied: jedi>=0.16 in /home/adityasah/.local/lib/python3.13/site-packages (from ipython) (0.19.2)\n",
      "Requirement already satisfied: matplotlib-inline in /home/adityasah/.local/lib/python3.13/site-packages (from ipython) (0.1.7)\n",
      "Requirement already satisfied: pexpect>4.3 in /usr/lib/python3.13/site-packages (from ipython) (4.9.0)\n",
      "Requirement already satisfied: prompt_toolkit<3.1.0,>=3.0.41 in /home/adityasah/.local/lib/python3.13/site-packages (from ipython) (3.0.50)\n",
      "Requirement already satisfied: pygments>=2.4.0 in /home/adityasah/.local/lib/python3.13/site-packages (from ipython) (2.19.1)\n",
      "Requirement already satisfied: stack_data in /home/adityasah/.local/lib/python3.13/site-packages (from ipython) (0.6.3)\n",
      "Requirement already satisfied: traitlets>=5.13.0 in /usr/lib/python3.13/site-packages (from ipython) (5.14.3)\n",
      "Requirement already satisfied: parso<0.9.0,>=0.8.4 in /home/adityasah/.local/lib/python3.13/site-packages (from jedi>=0.16->ipython) (0.8.4)\n",
      "Requirement already satisfied: ptyprocess>=0.5 in /usr/lib/python3.13/site-packages (from pexpect>4.3->ipython) (0.7.0)\n",
      "Requirement already satisfied: wcwidth in /home/adityasah/.local/lib/python3.13/site-packages (from prompt_toolkit<3.1.0,>=3.0.41->ipython) (0.2.13)\n",
      "Requirement already satisfied: executing>=1.2.0 in /home/adityasah/.local/lib/python3.13/site-packages (from stack_data->ipython) (2.2.0)\n",
      "Requirement already satisfied: asttokens>=2.1.0 in /home/adityasah/.local/lib/python3.13/site-packages (from stack_data->ipython) (3.0.0)\n",
      "Requirement already satisfied: pure-eval in /home/adityasah/.local/lib/python3.13/site-packages (from stack_data->ipython) (0.2.3)\n"
     ]
    }
   ],
   "source": [
    "!pip install pandas numpy matplotlib seaborn statsmodels\n",
    "!pip install ipython\n"
   ]
  },
  {
   "cell_type": "code",
   "execution_count": 5,
   "metadata": {},
   "outputs": [
    {
     "name": "stdout",
     "output_type": "stream",
     "text": [
      "['Solarize_Light2', '_classic_test_patch', '_mpl-gallery', '_mpl-gallery-nogrid', 'bmh', 'classic', 'dark_background', 'fast', 'fivethirtyeight', 'ggplot', 'grayscale', 'petroff10', 'seaborn-v0_8', 'seaborn-v0_8-bright', 'seaborn-v0_8-colorblind', 'seaborn-v0_8-dark', 'seaborn-v0_8-dark-palette', 'seaborn-v0_8-darkgrid', 'seaborn-v0_8-deep', 'seaborn-v0_8-muted', 'seaborn-v0_8-notebook', 'seaborn-v0_8-paper', 'seaborn-v0_8-pastel', 'seaborn-v0_8-poster', 'seaborn-v0_8-talk', 'seaborn-v0_8-ticks', 'seaborn-v0_8-white', 'seaborn-v0_8-whitegrid', 'tableau-colorblind10']\n"
     ]
    }
   ],
   "source": [
    "import matplotlib.pyplot as plt\n",
    "print(plt.style.available)\n"
   ]
  },
  {
   "cell_type": "code",
   "execution_count": null,
   "metadata": {},
   "outputs": [],
   "source": [
    "import pandas as pd\n",
    "import numpy as np\n",
    "import matplotlib.pyplot as plt\n",
    "import seaborn as sns\n",
    "from statsmodels.tsa.seasonal import seasonal_decompose\n",
    "from statsmodels.graphics.tsaplots import plot_acf, plot_pacf\n",
    "\n",
    "# Set plotting style\n",
    "plt.style.use('bmh')\n",
    "sns.set_palette('viridis')\n",
    "\n",
    "print('Libraries loaded successfully')\n",
    "%matplotlib inline"
   ]
  },
  {
   "cell_type": "markdown",
   "metadata": {},
   "source": [
    "## Load the Dataset"
   ]
  },
  {
   "cell_type": "code",
   "execution_count": 6,
   "metadata": {},
   "outputs": [
    {
     "ename": "NameError",
     "evalue": "name 'pd' is not defined",
     "output_type": "error",
     "traceback": [
      "\u001b[31m---------------------------------------------------------------------------\u001b[39m",
      "\u001b[31mNameError\u001b[39m                                 Traceback (most recent call last)",
      "\u001b[36mCell\u001b[39m\u001b[36m \u001b[39m\u001b[32mIn[6]\u001b[39m\u001b[32m, line 2\u001b[39m\n\u001b[32m      1\u001b[39m \u001b[38;5;66;03m# Load the dataset\u001b[39;00m\n\u001b[32m----> \u001b[39m\u001b[32m2\u001b[39m df = \u001b[43mpd\u001b[49m.read_csv(\u001b[33m'\u001b[39m\u001b[33m../data/raw/electricity_consumption.csv\u001b[39m\u001b[33m'\u001b[39m)\n\u001b[32m      4\u001b[39m \u001b[38;5;66;03m# Convert timestamp to datetime\u001b[39;00m\n\u001b[32m      5\u001b[39m df[\u001b[33m'\u001b[39m\u001b[33mtimestamp\u001b[39m\u001b[33m'\u001b[39m] = pd.to_datetime(df[\u001b[33m'\u001b[39m\u001b[33mtimestamp\u001b[39m\u001b[33m'\u001b[39m])\n",
      "\u001b[31mNameError\u001b[39m: name 'pd' is not defined"
     ]
    }
   ],
   "source": [
    "# Load the dataset\n",
    "df = pd.read_csv('../data/raw/electricity_consumption.csv')\n",
    "\n",
    "# Convert timestamp to datetime\n",
    "df['timestamp'] = pd.to_datetime(df['timestamp'])\n",
    "\n",
    "# Set timestamp as index\n",
    "df = df.set_index('timestamp')\n",
    "\n",
    "# Display the first few rows\n",
    "df.head()"
   ]
  },
  {
   "cell_type": "markdown",
   "metadata": {},
   "source": [
    "## Basic Data Information"
   ]
  },
  {
   "cell_type": "code",
   "execution_count": null,
   "metadata": {},
   "outputs": [],
   "source": [
    "# Display basic information about the dataset\n",
    "print(f\"Dataset shape: {df.shape}\")\n",
    "print(f\"Time range: {df.index.min()} to {df.index.max()}\")\n",
    "print(f\"Frequency: {df.index.to_series().diff().mode()[0]}\")\n",
    "\n",
    "# Display summary statistics\n",
    "df.describe()"
   ]
  },
  {
   "cell_type": "markdown",
   "metadata": {},
   "source": [
    "## Check for Missing Values"
   ]
  },
  {
   "cell_type": "code",
   "execution_count": null,
   "metadata": {},
   "outputs": [],
   "source": [
    "# Check for missing values\n",
    "missing_values = df.isnull().sum()\n",
    "print(f\"Missing values:\\n{missing_values}\")"
   ]
  },
  {
   "cell_type": "markdown",
   "metadata": {},
   "source": [
    "## Time Series Visualization"
   ]
  },
  {
   "cell_type": "code",
   "execution_count": null,
   "metadata": {},
   "outputs": [],
   "source": [
    "# Plot the time series\n",
    "plt.figure(figsize=(15, 6))\n",
    "plt.plot(df.index, df['consumption'])\n",
    "plt.title('Electricity Consumption Over Time')\n",
    "plt.xlabel('Date')\n",
    "plt.ylabel('Consumption')\n",
    "plt.grid(True)\n",
    "plt.tight_layout()\n",
    "plt.show()"
   ]
  },
  {
   "cell_type": "markdown",
   "metadata": {},
   "source": [
    "## Resampling for Different Time Periods"
   ]
  },
  {
   "cell_type": "code",
   "execution_count": null,
   "metadata": {},
   "outputs": [],
   "source": [
    "# Resample to daily, weekly, and monthly data\n",
    "daily_data = df.resample('D').mean()\n",
    "weekly_data = df.resample('W').mean()\n",
    "monthly_data = df.resample('M').mean()\n",
    "\n",
    "# Plot\n",
    "fig, axes = plt.subplots(3, 1, figsize=(15, 12), sharex=True)\n",
    "\n",
    "daily_data['consumption'].plot(ax=axes[0], title='Daily Average Consumption')\n",
    "weekly_data['consumption'].plot(ax=axes[1], title='Weekly Average Consumption')\n",
    "monthly_data['consumption'].plot(ax=axes[2], title='Monthly Average Consumption')\n",
    "\n",
    "for ax in axes:\n",
    "    ax.set_ylabel('Consumption')\n",
    "    ax.grid(True)\n",
    "\n",
    "plt.tight_layout()\n",
    "plt.show()"
   ]
  },
  {
   "cell_type": "markdown",
   "metadata": {},
   "source": [
    "## Seasonal Patterns"
   ]
  },
  {
   "cell_type": "code",
   "execution_count": null,
   "metadata": {},
   "outputs": [],
   "source": [
    "# Daily patterns\n",
    "hourly_avg = df.groupby(df.index.hour).mean()\n",
    "\n",
    "plt.figure(figsize=(12, 6))\n",
    "plt.plot(hourly_avg.index, hourly_avg['consumption'], marker='o')\n",
    "plt.title('Average Consumption by Hour of Day')\n",
    "plt.xlabel('Hour of Day')\n",
    "plt.ylabel('Average Consumption')\n",
    "plt.xticks(range(0, 24))\n",
    "plt.grid(True)\n",
    "plt.tight_layout()\n",
    "plt.show()\n",
    "\n",
    "# Weekly patterns\n",
    "daily_avg = df.groupby(df.index.dayofweek).mean()\n",
    "\n",
    "plt.figure(figsize=(12, 6))\n",
    "plt.plot(daily_avg.index, daily_avg['consumption'], marker='o')\n",
    "plt.title('Average Consumption by Day of Week')\n",
    "plt.xlabel('Day of Week')\n",
    "plt.ylabel('Average Consumption')\n",
    "plt.xticks(range(0, 7), ['Monday', 'Tuesday', 'Wednesday', 'Thursday', 'Friday', 'Saturday', 'Sunday'])\n",
    "plt.grid(True)\n",
    "plt.tight_layout()\n",
    "plt.show()\n",
    "\n",
    "# Monthly patterns\n",
    "monthly_avg = df.groupby(df.index.month).mean()\n",
    "\n",
    "plt.figure(figsize=(12, 6))\n",
    "plt.plot(monthly_avg.index, monthly_avg['consumption'], marker='o')\n",
    "plt.title('Average Consumption by Month')\n",
    "plt.xlabel('Month')\n",
    "plt.ylabel('Average Consumption')\n",
    "plt.xticks(range(1, 13), ['Jan', 'Feb', 'Mar', 'Apr', 'May', 'Jun', 'Jul', 'Aug', 'Sep', 'Oct', 'Nov', 'Dec'])\n",
    "plt.grid(True)\n",
    "plt.tight_layout()\n",
    "plt.show()"
   ]
  },
  {
   "cell_type": "markdown",
   "metadata": {},
   "source": [
    "## Time Series Decomposition"
   ]
  },
  {
   "cell_type": "code",
   "execution_count": null,
   "metadata": {},
   "outputs": [],
   "source": [
    "# Resample to daily data for decomposition\n",
    "daily_data = df['consumption'].resample('D').mean()\n",
    "\n",
    "# Decompose the time series\n",
    "decomposition = seasonal_decompose(daily_data, model='additive', period=30)\n",
    "\n",
    "# Plot\n",
    "fig, axes = plt.subplots(4, 1, figsize=(15, 12), sharex=True)\n",
    "\n",
    "decomposition.observed.plot(ax=axes[0], title='Observed')\n",
    "decomposition.trend.plot(ax=axes[1], title='Trend')\n",
    "decomposition.seasonal.plot(ax=axes[2], title='Seasonal')\n",
    "decomposition.resid.plot(ax=axes[3], title='Residual')\n",
    "\n",
    "plt.tight_layout()\n",
    "plt.show()"
   ]
  },
  {
   "cell_type": "markdown",
   "metadata": {},
   "source": [
    "## Autocorrelation and Partial Autocorrelation"
   ]
  },
  {
   "cell_type": "code",
   "execution_count": null,
   "metadata": {},
   "outputs": [],
   "source": [
    "# ACF and PACF plots\n",
    "fig, axes = plt.subplots(2, 1, figsize=(15, 8))\n",
    "\n",
    "plot_acf(df['consumption'], lags=48, ax=axes[0])\n",
    "plot_pacf(df['consumption'], lags=48, ax=axes[1])\n",
    "\n",
    "plt.tight_layout()\n",
    "plt.show()"
   ]
  },
  {
   "cell_type": "markdown",
   "metadata": {},
   "source": [
    "## Feature Engineering"
   ]
  },
  {
   "cell_type": "code",
   "execution_count": null,
   "metadata": {},
   "outputs": [],
   "source": [
    "# Add time-based features\n",
    "df_features = df.copy()\n",
    "\n",
    "# Time-based features\n",
    "df_features['hour'] = df_features.index.hour\n",
    "df_features['dayofweek'] = df_features.index.dayofweek\n",
    "df_features['month'] = df_features.index.month\n",
    "df_features['year'] = df_features.index.year\n",
    "df_features['dayofyear'] = df_features.index.dayofyear\n",
    "df_features['quarter'] = df_features.index.quarter\n",
    "\n",
    "# Lag features\n",
    "df_features['consumption_lag_1d'] = df_features['consumption'].shift(24)\n",
    "df_features['consumption_lag_1w'] = df_features['consumption'].shift(168)\n",
    "\n",
    "# Rolling statistics\n",
    "df_features['consumption_rolling_mean_24h'] = df_features['consumption'].rolling(window=24).mean()\n",
    "df_features['consumption_rolling_std_24h'] = df_features['consumption'].rolling(window=24).std()\n",
    "\n",
    "# Drop rows with NaN values\n",
    "df_features = df_features.dropna()\n",
    "\n",
    "# Display the first few rows\n",
    "df_features.head()"
   ]
  },
  {
   "cell_type": "markdown",
   "metadata": {},
   "source": [
    "## Correlation Analysis"
   ]
  },
  {
   "cell_type": "code",
   "execution_count": null,
   "metadata": {},
   "outputs": [],
   "source": [
    "# Calculate correlation matrix\n",
    "correlation = df_features.corr()\n",
    "\n",
    "# Plot correlation heatmap\n",
    "plt.figure(figsize=(12, 10))\n",
    "sns.heatmap(correlation, annot=True, cmap='coolwarm', fmt='.2f', linewidths=0.5)\n",
    "plt.title('Feature Correlation Matrix')\n",
    "plt.tight_layout()\n",
    "plt.show()"
   ]
  },
  {
   "cell_type": "markdown",
   "metadata": {},
   "source": [
    "## Conclusion\n",
    "\n",
    "This exploratory analysis has revealed several patterns in the electricity consumption data:\n",
    "\n",
    "1. There are clear daily patterns with higher consumption during daytime hours.\n",
    "2. Weekly patterns show lower consumption on weekends.\n",
    "3. Seasonal patterns indicate higher consumption in winter and summer months.\n",
    "4. The time series decomposition confirms these seasonal patterns and shows an overall trend.\n",
    "\n",
    "These insights will guide our feature engineering and model selection for forecasting electricity usage."
   ]
  }
 ],
 "metadata": {
  "kernelspec": {
   "display_name": "usr",
   "language": "python",
   "name": "python3"
  },
  "language_info": {
   "codemirror_mode": {
    "name": "ipython",
    "version": 3
   },
   "file_extension": ".py",
   "mimetype": "text/x-python",
   "name": "python",
   "nbconvert_exporter": "python",
   "pygments_lexer": "ipython3",
   "version": "3.13.2"
  }
 },
 "nbformat": 4,
 "nbformat_minor": 4
}
