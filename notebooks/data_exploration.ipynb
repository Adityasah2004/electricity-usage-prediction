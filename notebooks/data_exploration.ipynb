{
 "cells": [
  {
   "cell_type": "markdown",
   "metadata": {},
   "source": [
    "# Electricity Usage Data Exploration\n",
    "\n",
    "This notebook explores the electricity consumption dataset and performs initial analysis."
   ]
  },
  {
   "cell_type": "code",
   "execution_count": null,
   "metadata": {},
   "source": [
    "import pandas as pd\n",
    "import numpy as np\n",
    "import matplotlib.pyplot as plt\n",
    "import seaborn as sns\n",
    "from statsmodels.tsa.seasonal import seasonal_decompose\n",
    "from statsmodels.graphics.tsaplots import plot_acf, plot_pacf\n",
    "\n",
    "# Set plotting style\n",
    "plt.style.use('seaborn-whitegrid')\n",
    "sns.set_palette('viridis')\n",
    "\n",
    "%matplotlib inline"
   ]
  },
  {
   "cell_type": "markdown",
   "metadata": {},
   "source": [
    "## Load the Dataset"
   ]
  },
  {
   "cell_type": "code",
   "execution_count": null,
   "metadata": {},
   "source": [
    "# Load the dataset\n",
    "df = pd.read_csv('../data/raw/electricity_consumption.csv')\n",
    "\n",
    "# Convert timestamp to datetime\n",
    "df['timestamp'] = pd.to_datetime(df['timestamp'])\n",
    "\n",
    "# Set timestamp as index\n",
    "df = df.set_index('timestamp')\n",
    "\n",
    "# Display the first few rows\n",
    "df.head()"
   ]
  },
  {
   "cell_type": "markdown",
   "metadata": {},
   "source": [
    "## Basic Data Information"
   ]
  },
  {
   "cell_type": "code",
   "execution_count": null,
   "metadata": {},
   "source": [
    "# Display basic information about the dataset\n",
    "print(f"Dataset shape: {df.shape}")\n",
    "print(f"Time range: {df.index.min()} to {df.index.max()}")\n",
    "print(f"Frequency: {df.index.to_series().diff().mode()[0]}\n")\n",
    "\n",
    "# Display summary statistics\n",
    "df.describe()"
   ]
  },
  {
   "cell_type": "markdown",
   "metadata": {},
   "source": [
    "## Check for Missing Values"
   ]
  },
  {
   "cell_type": "code",
   "execution_count": null,
   "metadata": {},
   "source": [
    "# Check for missing values\n",
    "missing_values = df.isnull().sum()\n",
    "print(f"Missing values:\n{missing_values}")"
   ]
  },
  {
   "cell_type": "markdown",
   "metadata": {},
   "source": [
    "## Time Series Visualization"
   ]
  },
  {
   "cell_type": "code",
   "execution_count": null,
   "metadata": {},
   "source": [
    "# Plot the time series\n",
    "plt.figure(figsize=(15, 6))\n",
    "plt.plot(df.index, df['consumption'])\n",
    "plt.title('Electricity Consumption Over Time')\n",
    "plt.xlabel('Date')\n",
    "plt.ylabel('Consumption')\n",
    "plt.grid(True)\n",
    "plt.tight_layout()\n",
    "plt.show()"
   ]
  },
  {
   "cell_type": "markdown",
   "metadata": {},
   "source": [
    "## Resampling for Different Time Periods"
   ]
  },
  {
   "cell_type": "code",
   "execution_count": null,
   "metadata": {},
   "source": [
    "# Resample to daily, weekly, and monthly data\n",
    "daily_data = df.resample('D').mean()\n",
    "weekly_data = df.resample('W').mean()\n",
    "monthly_data = df.resample('M').mean()\n",
    "\n",
    "# Plot\n",
    "fig, axes = plt.subplots(3, 1, figsize=(15, 12), sharex=True)\n",
    "\n",
    "daily_data['consumption'].plot(ax=axes[0], title='Daily Average Consumption')\n",
    "weekly_data['consumption'].plot(ax=axes[1], title='Weekly Average Consumption')\n",
    "monthly_data['consumption'].plot(ax=axes[2], title='Monthly Average Consumption')\n",
    "\n",
    "for ax in axes:\n",
    "    ax.set_ylabel('Consumption')\n",
    "    ax.grid(True)\n",
    "\n",
    "plt.tight_layout()\n",
    "plt.show()"
   ]
  },
  {
   "cell_type": "markdown",
   "metadata": {},
   "source": [
    "## Seasonal Patterns"
   ]
  },
  {
   "cell_type": "code",
   "execution_count": null,
   "metadata": {},
   "source": [
    "# Daily patterns\n",
    "hourly_avg = df.groupby(df.index.hour).mean()\n",
    "\n",
    "plt.figure(figsize=(12, 6))\n",
    "plt.plot(hourly_avg.index, hourly_avg['consumption'], marker='o')\n",
    "plt.title('Average Consumption by Hour of Day')\n",
    "plt.xlabel('Hour of Day')\n",
    "plt.ylabel('Average Consumption')\n",
    "plt.xticks(range(0, 24))\n",
    "plt.grid(True)\n",
    "plt.tight_layout()\n",
    "plt.show()\n",
    "\n",
    "# Weekly patterns\n",
    "daily_avg = df.groupby(df.index.dayofweek).mean()\n",
    "\n",
    "plt.figure(figsize=(12, 6))\n",
    "plt.plot(daily_avg.index, daily_avg['consumption'], marker='o')\n",
    "plt.title('Average Consumption by Day of Week')\n",
    "plt.xlabel('Day of Week')\n",
    "plt.ylabel('Average Consumption')\n",
    "plt.xticks(range(0, 7), ['Monday', 'Tuesday', 'Wednesday', 'Thursday', 'Friday', 'Saturday', 'Sunday'])\n",
    "plt.grid(True)\n",
    "plt.tight_layout()\n",
    "plt.show()\n",
    "\n",
    "# Monthly patterns\n",
    "monthly_avg = df.groupby(df.index.month).mean()\n",
    "\n",
    "plt.figure(figsize=(12, 6))\n",
    "plt.plot(monthly_avg.index, monthly_avg['consumption'], marker='o')\n",
    "plt.title('Average Consumption by Month')\n",
    "plt.xlabel('Month')\n",
    "plt.ylabel('Average Consumption')\n",
    "plt.xticks(range(1, 13), ['Jan', 'Feb', 'Mar', 'Apr', 'May', 'Jun', 'Jul', 'Aug', 'Sep', 'Oct', 'Nov', 'Dec'])\n",
    "plt.grid(True)\n",
    "plt.tight_layout()\n",
    "plt.show()"
   ]
  },
  {
   "cell_type": "markdown",
   "metadata": {},
   "source": [
    "## Time Series Decomposition"
   ]
  },
  {
   "cell_type": "code",
   "execution_count": null,
   "metadata": {},
   "source": [
    "# Resample to daily data for decomposition\n",
    "daily_data = df['consumption'].resample('D').mean()\n",
    "\n",
    "# Decompose the time series\n",
    "decomposition = seasonal_decompose(daily_data, model='additive', period=30)\n",
    "\n",
    "# Plot\n",
    "fig, axes = plt.subplots(4, 1, figsize=(15, 12), sharex=True)\n",
    "\n",
    "decomposition.observed.plot(ax=axes[0], title='Observed')\n",
    "decomposition.trend.plot(ax=axes[1], title='Trend')\n",
    "decomposition.seasonal.plot(ax=axes[2], title='Seasonal')\n",
    "decomposition.resid.plot(ax=axes[3], title='Residual')\n",
    "\n",
    "plt.tight_layout()\n",
    "plt.show()"
   ]
  },
  {
   "cell_type": "markdown",
   "metadata": {},
   "source": [
    "## Autocorrelation and Partial Autocorrelation"
   ]
  },
  {
   "cell_type": "code",
   "execution_count": null,
   "metadata": {},
   "source": [
    "# ACF and PACF plots\n",
    "fig, axes = plt.subplots(2, 1, figsize=(15, 8))\n",
    "\n",
    "plot_acf(df['consumption'], lags=48, ax=axes[0])\n",
    "plot_pacf(df['consumption'], lags=48, ax=axes[1])\n",
    "\n",
    "plt.tight_layout()\n",
    "plt.show()"
   ]
  },
  {
   "cell_type": "markdown",
   "metadata": {},
   "source": [
    "## Feature Engineering"
   ]
  },
  {
   "cell_type": "code",
   "execution_count": null,
   "metadata": {},
   "source": [
    "# Add time-based features\n",
    "df_features = df.copy()\n",
    "\n",
    "# Time-based features\n",
    "df_features['hour'] = df_features.index.hour\n",
    "df_features['dayofweek'] = df_features.index.dayofweek\n",
    "df_features['month'] = df_features.index.month\n",
    "df_features['year'] = df_features.index.year\n",
    "df_features['dayofyear'] = df_features.index.dayofyear\n",
    "df_features['quarter'] = df_features.index.quarter\n",
    "\n",
    "# Lag features\n",
    "df_features['consumption_lag_1d'] = df_features['consumption'].shift(24)\n",
    "df_features['consumption_lag_1w'] = df_features['consumption'].shift(168)\n",
    "\n",
    "# Rolling statistics\n",
    "df_features['consumption_rolling_mean_24h'] = df_features['consumption'].rolling(window=24).mean()\n",
    "df_features['consumption_rolling_std_24h'] = df_features['consumption'].rolling(window=24).std()\n",
    "\n",
    "# Drop rows with NaN values\n",
    "df_features = df_features.dropna()\n",
    "\n",
    "# Display the first few rows\n",
    "df_features.head()"
   ]
  },
  {
   "cell_type": "markdown",
   "metadata": {},
   "source": [
    "## Correlation Analysis"
   ]
  },
  {
   "cell_type": "code",
   "execution_count": null,
   "metadata": {},
   "source": [
    "# Calculate correlation matrix\n",
    "correlation = df_features.corr()\n",
    "\n",
    "# Plot correlation heatmap\n",
    "plt.figure(figsize=(12, 10))\n",
    "sns.heatmap(correlation, annot=True, cmap='coolwarm', fmt='.2f', linewidths=0.5)\n",
    "plt.title('Feature Correlation Matrix')\n",
    "plt.tight_layout()\n",
    "plt.show()"
   ]
  },
  {
   "cell_type": "markdown",
   "metadata": {},
   "source": [
    "## Conclusion\n",
    "\n",
    "This exploratory analysis has revealed several patterns in the electricity consumption data:\n",
    "\n",
    "1. There are clear daily patterns with higher consumption during daytime hours.\n",
    "2. Weekly patterns show lower consumption on weekends.\n",
    "3. Seasonal patterns indicate higher consumption in winter and summer months.\n",
    "4. The time series decomposition confirms these seasonal patterns and shows an overall trend.\n",
    "\n",
    "These insights will guide our feature engineering and model selection for forecasting electricity usage."
   ]
  }
 ],
 "metadata": {
  "kernelspec": {
   "display_name": "Python 3",
   "language": "python",
   "name": "python3"
  },
  "language_info": {
   "codemirror_mode": {
    "name": "ipython",
    "version": 3
   },
   "file_extension": ".py",
   "mimetype": "text/x-python",
   "name": "python",
   "nbconvert_exporter": "python",
   "pygments_lexer": "ipython3",
   "version": "3.8.10"
  }
 },
 "nbformat": 4,
 "nbformat_minor": 4
}